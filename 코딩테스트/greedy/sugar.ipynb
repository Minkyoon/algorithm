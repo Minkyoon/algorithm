{
 "cells": [
  {
   "cell_type": "code",
   "execution_count": null,
   "metadata": {},
   "outputs": [
    {
     "ename": "",
     "evalue": "",
     "output_type": "error",
     "traceback": [
      "\u001b[1;31mThe kernel failed to start due to the missing module '_sqlite3'. Consider installing this module.\n",
      "\u001b[1;31mClick <a href='https://aka.ms/kernelFailuresMissingModule'>here</a> for more info."
     ]
    }
   ],
   "source": [
    "sugar = int(input())\n",
    "\n",
    "kg_5= sugar//5\n",
    "\n",
    "sub= sugar%5\n",
    "\n",
    "if sub ==0:\n",
    "    print(kg_5)\n",
    "else:\n",
    "    real_sub=sub//3\n",
    "    waste=sub%3\n",
    "    \n",
    "    if waste == 0:\n",
    "        print(real_sub+sub)\n",
    "    else:\n",
    "        print(-1)"
   ]
  }
 ],
 "metadata": {
  "kernelspec": {
   "display_name": ".venv",
   "language": "python",
   "name": "python3"
  },
  "language_info": {
   "name": "python",
   "version": "3.8.5"
  },
  "orig_nbformat": 4
 },
 "nbformat": 4,
 "nbformat_minor": 2
}
